{
 "cells": [
  {
   "cell_type": "code",
   "execution_count": null,
   "id": "1545b947",
   "metadata": {},
   "outputs": [],
   "source": [
    "# Instalando os Pacotes - Mysql\n",
    "!pip install pymysql\n",
    "import pandas as pd"
   ]
  },
  {
   "cell_type": "code",
   "execution_count": null,
   "id": "88df41b5",
   "metadata": {},
   "outputs": [],
   "source": [
    "# Importar Módulo pandas\n",
    "import pandas as pd\n",
    "# importar o módulo pymysql\n",
    "import pymysql"
   ]
  },
  {
   "cell_type": "code",
   "execution_count": null,
   "id": "56c940d0",
   "metadata": {},
   "outputs": [],
   "source": [
    "# converter do pymysql para o Mysql\n",
    "pymysql.install_as_MySQLdb()"
   ]
  },
  {
   "cell_type": "code",
   "execution_count": null,
   "id": "e3ddf904",
   "metadata": {},
   "outputs": [],
   "source": [
    "#import mysql.connector\n",
    "import MySQLdb"
   ]
  },
  {
   "cell_type": "code",
   "execution_count": null,
   "id": "47bd412b",
   "metadata": {},
   "outputs": [],
   "source": [
    "# Configurações para MYSQL connection\n",
    "db = MySQLdb.connect(\n",
    "    host=\"localhost\",\n",
    "    user=\"root\",\n",
    "    password=\"\",\n",
    "    database=\"teste\"\n",
    ")"
   ]
  },
  {
   "cell_type": "code",
   "execution_count": null,
   "id": "48479dd3",
   "metadata": {},
   "outputs": [],
   "source": [
    "# Cricar um objeto cursor. Isso permitirá que você execute todas as consultas necessárias\n",
    "cur = db.cursor()"
   ]
  },
  {
   "cell_type": "code",
   "execution_count": null,
   "id": "404f15f4",
   "metadata": {},
   "outputs": [],
   "source": [
    "# Selecionar o que retornar todos os dados da tabela.\n",
    "cur.execute(\"SELECT * FROM anuncio\")"
   ]
  },
  {
   "cell_type": "code",
   "execution_count": null,
   "id": "5c03048e",
   "metadata": {},
   "outputs": [],
   "source": [
    "# Converter os dados para DATAFRAME\n",
    "tb_cliente_mysql = pd.DataFrame(cur.fetchall())"
   ]
  },
  {
   "cell_type": "code",
   "execution_count": null,
   "id": "d7ab7cd6",
   "metadata": {},
   "outputs": [],
   "source": [
    "# Visualizar os dados do DATAFRAME\n",
    "tb_cliente_mysql.head()"
   ]
  },
  {
   "cell_type": "code",
   "execution_count": null,
   "id": "97304fb8",
   "metadata": {},
   "outputs": [],
   "source": [
    "#Adicionar o nome para as colunas\n",
    "tb_cliente_mysql = tb_cliente_mysql.rename(columns={\n",
    "                                                    0: 'codigo_tipoanuncio',\n",
    "                                                    1: 'Descricao_Tipo'\n",
    "                                                })"
   ]
  },
  {
   "cell_type": "code",
   "execution_count": null,
   "id": "b996556b",
   "metadata": {},
   "outputs": [],
   "source": [
    "# Visualizar os dados com as colunas renomeadas\n",
    "tb_cliente_mysql.head()"
   ]
  }
 ],
 "metadata": {
  "kernelspec": {
   "display_name": "Python 3 (ipykernel)",
   "language": "python",
   "name": "python3"
  },
  "language_info": {
   "codemirror_mode": {
    "name": "ipython",
    "version": 3
   },
   "file_extension": ".py",
   "mimetype": "text/x-python",
   "name": "python",
   "nbconvert_exporter": "python",
   "pygments_lexer": "ipython3",
   "version": "3.9.7"
  }
 },
 "nbformat": 4,
 "nbformat_minor": 5
}
