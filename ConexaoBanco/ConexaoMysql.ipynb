{
 "cells": [
  {
   "cell_type": "code",
   "execution_count": 33,
   "id": "1545b947",
   "metadata": {},
   "outputs": [
    {
     "name": "stdout",
     "output_type": "stream",
     "text": [
      "Requirement already satisfied: pymysql in c:\\users\\dpits\\anaconda3\\lib\\site-packages (1.0.2)\n"
     ]
    },
    {
     "name": "stderr",
     "output_type": "stream",
     "text": [
      "\n",
      "[notice] A new release of pip available: 22.3.1 -> 24.0\n",
      "[notice] To update, run: python.exe -m pip install --upgrade pip\n"
     ]
    }
   ],
   "source": [
    "# Instalando os Pacotes - Mysql\n",
    "!pip install pymysql\n",
    "import pandas as pd"
   ]
  },
  {
   "cell_type": "code",
   "execution_count": 34,
   "id": "88df41b5",
   "metadata": {},
   "outputs": [],
   "source": [
    "# Importar Módulo pandas\n",
    "import pandas as pd\n",
    "# importar o módulo pymysql\n",
    "import pymysql"
   ]
  },
  {
   "cell_type": "code",
   "execution_count": 35,
   "id": "56c940d0",
   "metadata": {},
   "outputs": [],
   "source": [
    "# converter do pymysql para o Mysql\n",
    "pymysql.install_as_MySQLdb()"
   ]
  },
  {
   "cell_type": "code",
   "execution_count": 36,
   "id": "e3ddf904",
   "metadata": {},
   "outputs": [],
   "source": [
    "#import mysql.connector\n",
    "import MySQLdb"
   ]
  },
  {
   "cell_type": "code",
   "execution_count": 37,
   "id": "47bd412b",
   "metadata": {},
   "outputs": [],
   "source": [
    "# Configurações para MYSQL connection\n",
    "db = MySQLdb.connect(\n",
    "    host=\"localhost\",\n",
    "    user=\"root\",\n",
    "    password=\"\",\n",
    "    database=\"aula\"\n",
    ")"
   ]
  },
  {
   "cell_type": "code",
   "execution_count": 38,
   "id": "48479dd3",
   "metadata": {},
   "outputs": [],
   "source": [
    "# Cricar um objeto cursor. Isso permitirá que você execute todas as consultas necessárias\n",
    "cur = db.cursor()"
   ]
  },
  {
   "cell_type": "code",
   "execution_count": 39,
   "id": "404f15f4",
   "metadata": {},
   "outputs": [
    {
     "data": {
      "text/plain": [
       "15"
      ]
     },
     "execution_count": 39,
     "metadata": {},
     "output_type": "execute_result"
    }
   ],
   "source": [
    "# Selecionar o que retornar todos os dados da tabela.\n",
    "cur.execute(\"SELECT * FROM tb_cliente\")"
   ]
  },
  {
   "cell_type": "code",
   "execution_count": 40,
   "id": "5c03048e",
   "metadata": {},
   "outputs": [],
   "source": [
    "# Converter os dados para DATAFRAME\n",
    "tb_cliente_mysql = pd.DataFrame(cur.fetchall())"
   ]
  },
  {
   "cell_type": "code",
   "execution_count": 41,
   "id": "d7ab7cd6",
   "metadata": {},
   "outputs": [
    {
     "data": {
      "text/html": [
       "<div>\n",
       "<style scoped>\n",
       "    .dataframe tbody tr th:only-of-type {\n",
       "        vertical-align: middle;\n",
       "    }\n",
       "\n",
       "    .dataframe tbody tr th {\n",
       "        vertical-align: top;\n",
       "    }\n",
       "\n",
       "    .dataframe thead th {\n",
       "        text-align: right;\n",
       "    }\n",
       "</style>\n",
       "<table border=\"1\" class=\"dataframe\">\n",
       "  <thead>\n",
       "    <tr style=\"text-align: right;\">\n",
       "      <th></th>\n",
       "      <th>0</th>\n",
       "      <th>1</th>\n",
       "      <th>2</th>\n",
       "      <th>3</th>\n",
       "      <th>4</th>\n",
       "      <th>5</th>\n",
       "      <th>6</th>\n",
       "      <th>7</th>\n",
       "      <th>8</th>\n",
       "      <th>9</th>\n",
       "    </tr>\n",
       "  </thead>\n",
       "  <tbody>\n",
       "    <tr>\n",
       "      <th>0</th>\n",
       "      <td>1</td>\n",
       "      <td>José</td>\n",
       "      <td>Das flores</td>\n",
       "      <td>Centro</td>\n",
       "      <td>454</td>\n",
       "      <td>111</td>\n",
       "      <td>rn</td>\n",
       "      <td>987118</td>\n",
       "      <td>None</td>\n",
       "      <td>m</td>\n",
       "    </tr>\n",
       "    <tr>\n",
       "      <th>1</th>\n",
       "      <td>2</td>\n",
       "      <td>Pires da Silva</td>\n",
       "      <td>Do rio</td>\n",
       "      <td>Grotão</td>\n",
       "      <td>565</td>\n",
       "      <td>222</td>\n",
       "      <td>pb</td>\n",
       "      <td>123478</td>\n",
       "      <td>None</td>\n",
       "      <td>m</td>\n",
       "    </tr>\n",
       "    <tr>\n",
       "      <th>2</th>\n",
       "      <td>3</td>\n",
       "      <td>Mariana</td>\n",
       "      <td>Do horizonte</td>\n",
       "      <td>Derba</td>\n",
       "      <td>573</td>\n",
       "      <td>333</td>\n",
       "      <td>ba</td>\n",
       "      <td>765432</td>\n",
       "      <td>5.0</td>\n",
       "      <td>f</td>\n",
       "    </tr>\n",
       "    <tr>\n",
       "      <th>3</th>\n",
       "      <td>4</td>\n",
       "      <td>Yasmin Moneta</td>\n",
       "      <td>Do litoral</td>\n",
       "      <td>Ondina</td>\n",
       "      <td>762</td>\n",
       "      <td>444</td>\n",
       "      <td>ba</td>\n",
       "      <td>223444</td>\n",
       "      <td>None</td>\n",
       "      <td>f</td>\n",
       "    </tr>\n",
       "    <tr>\n",
       "      <th>4</th>\n",
       "      <td>5</td>\n",
       "      <td>Igor Ralf</td>\n",
       "      <td>Do interior</td>\n",
       "      <td>Marés</td>\n",
       "      <td>656</td>\n",
       "      <td>555</td>\n",
       "      <td>rj</td>\n",
       "      <td>556677</td>\n",
       "      <td>3.0</td>\n",
       "      <td>m</td>\n",
       "    </tr>\n",
       "  </tbody>\n",
       "</table>\n",
       "</div>"
      ],
      "text/plain": [
       "   0               1             2       3    4    5   6       7     8  9\n",
       "0  1            José    Das flores  Centro  454  111  rn  987118  None  m\n",
       "1  2  Pires da Silva        Do rio  Grotão  565  222  pb  123478  None  m\n",
       "2  3         Mariana  Do horizonte   Derba  573  333  ba  765432   5.0  f\n",
       "3  4   Yasmin Moneta    Do litoral  Ondina  762  444  ba  223444  None  f\n",
       "4  5       Igor Ralf   Do interior   Marés  656  555  rj  556677   3.0  m"
      ]
     },
     "execution_count": 41,
     "metadata": {},
     "output_type": "execute_result"
    }
   ],
   "source": [
    "# Visualizar os dados do DATAFRAME\n",
    "tb_cliente_mysql.head()"
   ]
  },
  {
   "cell_type": "code",
   "execution_count": 42,
   "id": "97304fb8",
   "metadata": {},
   "outputs": [],
   "source": [
    "#Adicionar o nome para as colunas\n",
    "tb_cliente_mysql = tb_cliente_mysql.rename(columns={\n",
    "                                                    0: 'Codigo',\n",
    "                                                    1: 'Nome',\n",
    "                                                    2: 'Logradouro',\n",
    "                                                    3: 'Bairro',\n",
    "                                                    4: 'Cep',\n",
    "                                                    5: 'CPF',\n",
    "                                                    6: 'UF',\n",
    "                                                    7: 'Telefone',\n",
    "                                                    8: 'Desconto',\n",
    "                                                    9: 'Sexo'\n",
    "                                                })"
   ]
  },
  {
   "cell_type": "code",
   "execution_count": 43,
   "id": "b996556b",
   "metadata": {},
   "outputs": [
    {
     "data": {
      "text/html": [
       "<div>\n",
       "<style scoped>\n",
       "    .dataframe tbody tr th:only-of-type {\n",
       "        vertical-align: middle;\n",
       "    }\n",
       "\n",
       "    .dataframe tbody tr th {\n",
       "        vertical-align: top;\n",
       "    }\n",
       "\n",
       "    .dataframe thead th {\n",
       "        text-align: right;\n",
       "    }\n",
       "</style>\n",
       "<table border=\"1\" class=\"dataframe\">\n",
       "  <thead>\n",
       "    <tr style=\"text-align: right;\">\n",
       "      <th></th>\n",
       "      <th>Desconto</th>\n",
       "      <th>Sexo</th>\n",
       "      <th>Logradouro</th>\n",
       "      <th>Bairro</th>\n",
       "      <th>Cep</th>\n",
       "      <th>CPF</th>\n",
       "      <th>UF</th>\n",
       "      <th>Telefone</th>\n",
       "      <th>8</th>\n",
       "      <th>9</th>\n",
       "    </tr>\n",
       "  </thead>\n",
       "  <tbody>\n",
       "    <tr>\n",
       "      <th>0</th>\n",
       "      <td>1</td>\n",
       "      <td>José</td>\n",
       "      <td>Das flores</td>\n",
       "      <td>Centro</td>\n",
       "      <td>454</td>\n",
       "      <td>111</td>\n",
       "      <td>rn</td>\n",
       "      <td>987118</td>\n",
       "      <td>None</td>\n",
       "      <td>m</td>\n",
       "    </tr>\n",
       "    <tr>\n",
       "      <th>1</th>\n",
       "      <td>2</td>\n",
       "      <td>Pires da Silva</td>\n",
       "      <td>Do rio</td>\n",
       "      <td>Grotão</td>\n",
       "      <td>565</td>\n",
       "      <td>222</td>\n",
       "      <td>pb</td>\n",
       "      <td>123478</td>\n",
       "      <td>None</td>\n",
       "      <td>m</td>\n",
       "    </tr>\n",
       "    <tr>\n",
       "      <th>2</th>\n",
       "      <td>3</td>\n",
       "      <td>Mariana</td>\n",
       "      <td>Do horizonte</td>\n",
       "      <td>Derba</td>\n",
       "      <td>573</td>\n",
       "      <td>333</td>\n",
       "      <td>ba</td>\n",
       "      <td>765432</td>\n",
       "      <td>5.0</td>\n",
       "      <td>f</td>\n",
       "    </tr>\n",
       "    <tr>\n",
       "      <th>3</th>\n",
       "      <td>4</td>\n",
       "      <td>Yasmin Moneta</td>\n",
       "      <td>Do litoral</td>\n",
       "      <td>Ondina</td>\n",
       "      <td>762</td>\n",
       "      <td>444</td>\n",
       "      <td>ba</td>\n",
       "      <td>223444</td>\n",
       "      <td>None</td>\n",
       "      <td>f</td>\n",
       "    </tr>\n",
       "    <tr>\n",
       "      <th>4</th>\n",
       "      <td>5</td>\n",
       "      <td>Igor Ralf</td>\n",
       "      <td>Do interior</td>\n",
       "      <td>Marés</td>\n",
       "      <td>656</td>\n",
       "      <td>555</td>\n",
       "      <td>rj</td>\n",
       "      <td>556677</td>\n",
       "      <td>3.0</td>\n",
       "      <td>m</td>\n",
       "    </tr>\n",
       "  </tbody>\n",
       "</table>\n",
       "</div>"
      ],
      "text/plain": [
       "   Desconto            Sexo    Logradouro  Bairro  Cep  CPF  UF  Telefone  \\\n",
       "0         1            José    Das flores  Centro  454  111  rn    987118   \n",
       "1         2  Pires da Silva        Do rio  Grotão  565  222  pb    123478   \n",
       "2         3         Mariana  Do horizonte   Derba  573  333  ba    765432   \n",
       "3         4   Yasmin Moneta    Do litoral  Ondina  762  444  ba    223444   \n",
       "4         5       Igor Ralf   Do interior   Marés  656  555  rj    556677   \n",
       "\n",
       "      8  9  \n",
       "0  None  m  \n",
       "1  None  m  \n",
       "2   5.0  f  \n",
       "3  None  f  \n",
       "4   3.0  m  "
      ]
     },
     "execution_count": 43,
     "metadata": {},
     "output_type": "execute_result"
    }
   ],
   "source": [
    "# Visualizar os dados com as colunas renomeadas\n",
    "tb_cliente_mysql.head()"
   ]
  },
  {
   "cell_type": "code",
   "execution_count": null,
   "id": "91ac0f34",
   "metadata": {},
   "outputs": [],
   "source": []
  }
 ],
 "metadata": {
  "kernelspec": {
   "display_name": "Python 3 (ipykernel)",
   "language": "python",
   "name": "python3"
  },
  "language_info": {
   "codemirror_mode": {
    "name": "ipython",
    "version": 3
   },
   "file_extension": ".py",
   "mimetype": "text/x-python",
   "name": "python",
   "nbconvert_exporter": "python",
   "pygments_lexer": "ipython3",
   "version": "3.9.7"
  }
 },
 "nbformat": 4,
 "nbformat_minor": 5
}
